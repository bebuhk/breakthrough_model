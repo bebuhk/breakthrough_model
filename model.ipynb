{
 "cells": [
  {
   "cell_type": "code",
   "execution_count": 163,
   "id": "b832c409",
   "metadata": {},
   "outputs": [],
   "source": [
    "import numpy as np\n",
    "import matplotlib.pyplot as plt\n"
   ]
  },
  {
   "cell_type": "code",
   "execution_count": 164,
   "id": "e4f94994",
   "metadata": {},
   "outputs": [],
   "source": [
    "# model parameters\n",
    "dt = 1 # time step [s]\n",
    "N = 4 # number of sections in the collumn\n",
    "T = 5 # total simulation time steps\n",
    "\n",
    "# sorbent parameters\n",
    "K_initial = 1.5 # initial mass transfer coefficient [mmol/(m^2 s kPa)]\n",
    "cap = 2.0 # cyclic uptake capacity [mol/L]\n",
    "\n",
    "# process design parameters\n",
    "l = 4 # collumn depth [m]\n",
    "SSA = 210 # sorbent specific surface area [m^2/m^3]\n",
    "# process operation parameters\n",
    "v = 1.0 # air speed [m/s]\n",
    "V_liq = 0.5 # liquid sorbent volume [L]\n",
    "\n",
    "\n"
   ]
  },
  {
   "cell_type": "code",
   "execution_count": 165,
   "id": "2540200b",
   "metadata": {},
   "outputs": [
    {
     "name": "stdout",
     "output_type": "stream",
     "text": [
      "ds = 1.0 is integer.\n",
      "ds: 1.0 [segments per timesteps], -> p: 1 [segments before inlet]\n"
     ]
    }
   ],
   "source": [
    "# derived parameters\n",
    "l_N = l/N # length of one section [m]\n",
    "V_N = l_N # volume of one section [m^3]\n",
    "ds = v * dt / l_N # number of sections (that air travels in one time step)\n",
    "ds_int_flag = ds.is_integer() # flag if ds is integer\n",
    "#p = 2 # number of sections before inlet (for airspeeds larger than l_N/dt) -> could be set to np.ceil(ds)\n",
    "p = int(np.ceil(ds)) # number of sections before inlet (for airspeeds larger than l_N/dt)\n",
    "if ds_int_flag:\n",
    "    print(f\"ds = {ds} is integer.\")\n",
    "print(f\"ds: {ds} [segments per timesteps], -> p: {p} [segments before inlet]\")\n",
    "\n",
    "# concentration matrix\n",
    "x = np.ones((T, N+p)) * np.nan # [Pa]. rows: time steps; collumns: sections\n",
    "\n",
    "# set initial and boundary conditions: \n",
    "# 1) x = 40 Pa for all time steps(=rows) at inlet (p initial sections=columns);\n",
    "x[:, 0:p] = 40 # initial concentration in inlet [Pa]\n",
    "# 2) x = 40 Pa at t=0 for all sections:columns\n",
    "x[0, :] = 40 # initial concentration in collumn [Pa]\n",
    "x\n",
    "\n",
    "# mol in gase phase matrix (mol per time step and section)\n",
    "n = np.ones((T, N)) * np.nan # rows: time steps; collumns: sections\n",
    "# uptake matrix (mol per time step and section)\n",
    "n2l = np.ones((T, N)) * np.nan # rows: time steps; collumns: sections\n",
    "\n",
    "# total uptake (over time)\n",
    "n_total_t = np.zeros(T) # total uptake per time step [mol]"
   ]
  },
  {
   "cell_type": "code",
   "execution_count": 166,
   "id": "aceff58f",
   "metadata": {},
   "outputs": [
    {
     "data": {
      "text/plain": [
       "array([[40., 40., 40., 40., 40.],\n",
       "       [40., nan, nan, nan, nan],\n",
       "       [40., nan, nan, nan, nan],\n",
       "       [40., nan, nan, nan, nan],\n",
       "       [40., nan, nan, nan, nan]])"
      ]
     },
     "execution_count": 166,
     "metadata": {},
     "output_type": "execute_result"
    }
   ],
   "source": [
    "x"
   ]
  },
  {
   "cell_type": "code",
   "execution_count": 167,
   "id": "5a4a7953",
   "metadata": {},
   "outputs": [],
   "source": [
    "def K_eff(uptake, K_initial, cap, V_liq):\n",
    "    \"\"\"Calculate effective mass transfer coefficient based on current uptake.\n",
    "    \n",
    "    Args:\n",
    "        uptake (float): Current uptake in mol.\n",
    "        K_initial (float): Initial mass transfer coefficient in mmol/(m^2 s kPa).\n",
    "        cap (float): Cyclic uptake capacity in mol/L.\n",
    "        V_liq (float): Liquid sorbent volume in L.\n",
    "        N (int): Number of sections in the column.\n",
    "        \n",
    "    Returns:\n",
    "        float: Effective mass transfer coefficient in mmol/(m^2 s kPa).\n",
    "    \"\"\"\n",
    "    if uptake >= cap * V_liq:\n",
    "        return 0.0\n",
    "    else:\n",
    "        return K_initial * (1 - uptake / (cap * V_liq))"
   ]
  },
  {
   "cell_type": "code",
   "execution_count": null,
   "id": "b3d8b155",
   "metadata": {},
   "outputs": [],
   "source": [
    "for t in range(0, T-1):\n",
    "    # 1) calculate uptake n for section i at time step t\n",
    "    n2l[t, :] = x[t,p:N+p] * K_initial * 1e-6 * SSA * l_N * dt # uptake gas molecules to liquid [mol]\n",
    "    n[t, :] = x[t,p:N+p] * V_N / (8.314 * 298) - n2l[t, :]# remaining in gas phase [mol]\n",
    "    if (n < 0.0).any(): # check if remaining in gas phase is negative\n",
    "        print(f\"Warning: negative remaining in gas phase! setting to zero. time step: {t}, index: {np.where(n < 0.0)}\")\n",
    "        n2l[t, n[t, :] < 0.0] = x[t,p:N+p][n[t, :] < 0.0] * V_N / (8.314 * 298) # limit uptake to remaining in gas phase\n",
    "        n[t, n[t, :] < 0.0] = 0.0\n",
    "    #n2l[t, :] = x[t,p:N+p] * K_initial * 1e-6 * SSA * l_N * dt * 44 # uptake [g_co2]\n",
    "\n",
    "    # 2) calc remaining concentration after uptake:\n",
    "    x[t, p:N+p] = n[t, :] * 8.314 * 298 / (V_N) # new concentration [Pa]\n",
    "    \n",
    "    # 3) calc next concentration x for all sections (p:N+p) at time step t+1\n",
    "    if ds_int_flag:# if ds is int(ds)\n",
    "        x[t+1, p:N+p] = x[t, (p-int(ds)):(N+p-int(ds))] # new concentration (in next time step) equals the one \n",
    "\n",
    "        \n",
    "\n",
    "\n",
    "\n"
   ]
  },
  {
   "cell_type": "code",
   "execution_count": 171,
   "id": "f2725e8c",
   "metadata": {},
   "outputs": [
    {
     "data": {
      "text/plain": [
       "array([[4.00000000e+01, 4.23397471e-01, 4.23397471e-01, 4.23397471e-01,\n",
       "        4.23397471e-01],\n",
       "       [4.00000000e+01, 8.78259280e+00, 9.29631895e-02, 9.29631895e-02,\n",
       "        9.29631895e-02],\n",
       "       [4.00000000e+01, 8.78259280e+00, 1.92834841e+00, 2.04114460e-02,\n",
       "        2.04114460e-02],\n",
       "       [4.00000000e+01, 8.78259280e+00, 1.92834841e+00, 4.23397471e-01,\n",
       "        4.48163546e-03],\n",
       "       [4.00000000e+01, 4.00000000e+01, 8.78259280e+00, 1.92834841e+00,\n",
       "        4.23397471e-01]])"
      ]
     },
     "execution_count": 171,
     "metadata": {},
     "output_type": "execute_result"
    }
   ],
   "source": [
    "x"
   ]
  },
  {
   "cell_type": "code",
   "execution_count": null,
   "id": "97204e77",
   "metadata": {},
   "outputs": [
    {
     "data": {
      "text/plain": [
       "1"
      ]
     },
     "execution_count": 160,
     "metadata": {},
     "output_type": "execute_result"
    }
   ],
   "source": [
    "int(1.8)"
   ]
  },
  {
   "cell_type": "code",
   "execution_count": null,
   "id": "a1c85df1",
   "metadata": {},
   "outputs": [
    {
     "ename": "TypeError",
     "evalue": "slice indices must be integers or None or have an __index__ method",
     "output_type": "error",
     "traceback": [
      "\u001b[0;31m---------------------------------------------------------------------------\u001b[0m",
      "\u001b[0;31mTypeError\u001b[0m                                 Traceback (most recent call last)",
      "Cell \u001b[0;32mIn[155], line 1\u001b[0m\n\u001b[0;32m----> 1\u001b[0m \u001b[43mx\u001b[49m\u001b[43m[\u001b[49m\u001b[43mt\u001b[49m\u001b[43m,\u001b[49m\u001b[43m \u001b[49m\u001b[43mp\u001b[49m\u001b[38;5;241;43m-\u001b[39;49m\u001b[43mds\u001b[49m\u001b[43m:\u001b[49m\u001b[43mN\u001b[49m\u001b[38;5;241;43m+\u001b[39;49m\u001b[43mp\u001b[49m\u001b[38;5;241;43m-\u001b[39;49m\u001b[43mds\u001b[49m\u001b[43m]\u001b[49m\n",
      "\u001b[0;31mTypeError\u001b[0m: slice indices must be integers or None or have an __index__ method"
     ]
    }
   ],
   "source": [
    "x[t, p-ds:N+p-ds]"
   ]
  },
  {
   "cell_type": "code",
   "execution_count": null,
   "id": "7e2c7646",
   "metadata": {},
   "outputs": [
    {
     "data": {
      "text/plain": [
       "array([nan, nan, nan, nan])"
      ]
     },
     "execution_count": 149,
     "metadata": {},
     "output_type": "execute_result"
    }
   ],
   "source": [
    "n[t, :] * 8.314 * 298 / (V_N) #"
   ]
  },
  {
   "cell_type": "code",
   "execution_count": null,
   "id": "91b5a6c9",
   "metadata": {},
   "outputs": [],
   "source": []
  },
  {
   "cell_type": "code",
   "execution_count": null,
   "id": "31754062",
   "metadata": {},
   "outputs": [
    {
     "data": {
      "text/plain": [
       "array([[0.0126, 0.0126, 0.0126, 0.0126],\n",
       "       [   nan,    nan,    nan,    nan],\n",
       "       [   nan,    nan,    nan,    nan],\n",
       "       [   nan,    nan,    nan,    nan],\n",
       "       [   nan,    nan,    nan,    nan]])"
      ]
     },
     "execution_count": 120,
     "metadata": {},
     "output_type": "execute_result"
    }
   ],
   "source": [
    "n"
   ]
  },
  {
   "cell_type": "code",
   "execution_count": null,
   "id": "382b54a9",
   "metadata": {},
   "outputs": [],
   "source": [
    "        # n[t, i-p] = K_initial * (x[t-1, i] - x[t-1, i-1]) * l_N / v * dt # uptake [mmol]\n",
    "        # if n[t, i-p] > cap * V_liq / N: # check if uptake capacity is exceeded\n",
    "        #     n[t, i-p] = cap * V_liq / N # limit uptake to capacity\n",
    "        # x[t, i] = x[t-1, i] - n[t, i-p] / (l_N * 1e3) # new concentration [Pa]"
   ]
  },
  {
   "cell_type": "code",
   "execution_count": null,
   "id": "6bceedee",
   "metadata": {},
   "outputs": [
    {
     "data": {
      "text/plain": [
       "4"
      ]
     },
     "execution_count": 34,
     "metadata": {},
     "output_type": "execute_result"
    }
   ],
   "source": [
    "range(0, T)[T-1]"
   ]
  }
 ],
 "metadata": {
  "kernelspec": {
   "display_name": "base",
   "language": "python",
   "name": "python3"
  },
  "language_info": {
   "codemirror_mode": {
    "name": "ipython",
    "version": 3
   },
   "file_extension": ".py",
   "mimetype": "text/x-python",
   "name": "python",
   "nbconvert_exporter": "python",
   "pygments_lexer": "ipython3",
   "version": "3.10.14"
  }
 },
 "nbformat": 4,
 "nbformat_minor": 5
}
